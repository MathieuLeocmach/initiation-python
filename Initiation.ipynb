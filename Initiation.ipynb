{
 "cells": [
  {
   "cell_type": "markdown",
   "metadata": {},
   "source": [
    "# Initiation à Python\n",
    "\n",
    "Cette page web est en fait un *notebook*, visualisé par *Jupyter* et dont le code est exécuté par *IPython*. Vous l'avez ouvert dans votre navigateur après avoir tapé dans votre console\n",
    "```\n",
    "jupyter notebook\n",
    "```\n",
    "et sélectionné le fichier `initiation.ipynb`.\n",
    "\n",
    "Le texte que vous êtes en train de lire est contenu dans une cellule de type *Markdown* qui permet un [formattage aisé](https://help.github.com/articles/markdown-basics/) du texte, y compris des formules $\\LaTeX$ en ligne comme $\\sum\\gamma_i^2$ ou en equations séprarées:\n",
    "$$\\frac{\\ln \\pi}{12}.$$\n",
    "\n",
    "Un notebook peut donc contenir deux types de cellules:\n",
    " - Markdown \n",
    " - Code\n",
    "\n",
    "Vous pouvez sélectionner le type de cellule dans le menu déroulant de la barre d'outils ci-dessus. En utilisant le menu *Insert*, vous pouvez ajouter des cellules. Les cellules de code s'exécutent en faisant Maj+Entrer. Les cellules Markdown se formattent de la même façon et on retourne à l'édition de leur contenu par un double clic.\n",
    "\n",
    "## Les fonctions\n",
    "\n",
    "En Python, tout est dans l'indentation"
   ]
  },
  {
   "cell_type": "code",
   "execution_count": 1,
   "metadata": {},
   "outputs": [
    {
     "name": "stdout",
     "output_type": "stream",
     "text": [
      "fini de définir ma fonction\n"
     ]
    }
   ],
   "source": [
    "def mafonction(a, b):\n",
    "    print(\"Je divise\")\n",
    "    return a/b # indentation de l'intérieur de la fonction = on est toujours dans la fonction\n",
    "print(\"fini de définir ma fonction\") # indentation de l'extérieur de la fonction donc la fonction est finie"
   ]
  },
  {
   "cell_type": "code",
   "execution_count": 2,
   "metadata": {},
   "outputs": [
    {
     "name": "stdout",
     "output_type": "stream",
     "text": [
      "Je divise\n"
     ]
    },
    {
     "data": {
      "text/plain": [
       "2.5"
      ]
     },
     "execution_count": 2,
     "metadata": {},
     "output_type": "execute_result"
    }
   ],
   "source": [
    "mafonction(5,2)"
   ]
  },
  {
   "cell_type": "markdown",
   "metadata": {},
   "source": [
    "On peut documenter ses propres fonctions."
   ]
  },
  {
   "cell_type": "code",
   "execution_count": 3,
   "metadata": {
    "collapsed": true
   },
   "outputs": [],
   "source": [
    "def mafonction(a, b):\n",
    "    \"\"\"Division de a par b\"\"\"\n",
    "    return a/b"
   ]
  },
  {
   "cell_type": "code",
   "execution_count": 4,
   "metadata": {
    "collapsed": true
   },
   "outputs": [
    {
     "data": {
      "text/plain": [
       "\u001b[0;31mSignature:\u001b[0m \u001b[0mmafonction\u001b[0m\u001b[0;34m(\u001b[0m\u001b[0ma\u001b[0m\u001b[0;34m,\u001b[0m \u001b[0mb\u001b[0m\u001b[0;34m)\u001b[0m\u001b[0;34m\u001b[0m\u001b[0m\n",
       "\u001b[0;31mDocstring:\u001b[0m Division de a par b\n",
       "\u001b[0;31mFile:\u001b[0m      ~/Documents/Cours/initiation-python/<ipython-input-3-de019539858a>\n",
       "\u001b[0;31mType:\u001b[0m      function\n"
      ]
     },
     "metadata": {},
     "output_type": "display_data"
    }
   ],
   "source": [
    "mafonction?"
   ]
  },
  {
   "cell_type": "markdown",
   "metadata": {},
   "source": [
    "Il est possible d'avoir des arguments par défaut."
   ]
  },
  {
   "cell_type": "code",
   "execution_count": 5,
   "metadata": {},
   "outputs": [
    {
     "name": "stdout",
     "output_type": "stream",
     "text": [
      "2.5\n",
      "0.5\n"
     ]
    }
   ],
   "source": [
    "def mafonction(a, b=2):\n",
    "    \"\"\"Division de a par b\"\"\"\n",
    "    return a/b\n",
    "print(mafonction(5))\n",
    "print(mafonction(5,10))"
   ]
  },
  {
   "cell_type": "code",
   "execution_count": 6,
   "metadata": {
    "collapsed": true
   },
   "outputs": [
    {
     "data": {
      "text/plain": [
       "\u001b[0;31mSignature:\u001b[0m \u001b[0mmafonction\u001b[0m\u001b[0;34m(\u001b[0m\u001b[0ma\u001b[0m\u001b[0;34m,\u001b[0m \u001b[0mb\u001b[0m\u001b[0;34m=\u001b[0m\u001b[0;36m2\u001b[0m\u001b[0;34m)\u001b[0m\u001b[0;34m\u001b[0m\u001b[0m\n",
       "\u001b[0;31mDocstring:\u001b[0m Division de a par b\n",
       "\u001b[0;31mFile:\u001b[0m      ~/Documents/Cours/initiation-python/<ipython-input-5-d8ff2f7ecb79>\n",
       "\u001b[0;31mType:\u001b[0m      function\n"
      ]
     },
     "metadata": {},
     "output_type": "display_data"
    }
   ],
   "source": [
    "mafonction?"
   ]
  },
  {
   "cell_type": "markdown",
   "metadata": {},
   "source": [
    "Un peu plus complexe : on imbrique deux indentations et on a 2 arguments avec des valeurs par défaut."
   ]
  },
  {
   "cell_type": "code",
   "execution_count": 7,
   "metadata": {},
   "outputs": [
    {
     "name": "stdout",
     "output_type": "stream",
     "text": [
      "2.5\n",
      "0.5\n",
      "(5, 2)\n"
     ]
    }
   ],
   "source": [
    "def mafonction(a, b=2, diviser=True):\n",
    "    \"\"\"Division de a par b.\n",
    "    Si on ne divise pas, on retourne a et b\"\"\" #on a le droit de passer à la ligne si on a ouvert 3 guillemets\n",
    "    if diviser:\n",
    "        return a/b\n",
    "    else:\n",
    "        return a,b\n",
    "print(mafonction(5))\n",
    "print(mafonction(5, 10))\n",
    "print(mafonction(5, diviser=False))"
   ]
  },
  {
   "cell_type": "markdown",
   "metadata": {},
   "source": [
    "## Jouer avec les chaînes de caractères "
   ]
  },
  {
   "cell_type": "markdown",
   "metadata": {},
   "source": [
    "### Indexation, sous-chaîne et concaténation"
   ]
  },
  {
   "cell_type": "code",
   "execution_count": 8,
   "metadata": {},
   "outputs": [
    {
     "name": "stdout",
     "output_type": "stream",
     "text": [
      "coucou\n",
      "c\n",
      "o\n",
      "u\n",
      "oucou\n",
      "cou\n",
      "couco\n",
      "cuo\n",
      "oo\n"
     ]
    }
   ],
   "source": [
    "a = \"coucou\" #definition de l'objet. Pas besoin de donner son type\n",
    "print(a) #affichage de toute la chaîne de caractères\n",
    "print(a[0]) #affichage du premier élément. Attention, les indices commencent à 0\n",
    "print(a[1])\n",
    "print(a[-1]) #affichage du dernier élément. On utilise des entiers négatifs pour partir de la fin\n",
    "print(a[1:]) #affichage à partir de l'élément 1\n",
    "print(a[:3]) #jusqu'à l'élément 3 non inclu. Equivalent mais plus court que a[0:3]\n",
    "print(a[:-1]) #jusqu'au dernier élément non inclu\n",
    "print(a[::2]) #tous les 2 éléments. Equivalent mais plus court que a[0:len(a):2]\n",
    "print(a[1:-1:3]) #à partir de l'élement 1, jusqu'au dernier élément non inclu, tous les 3 éléments"
   ]
  },
  {
   "cell_type": "code",
   "execution_count": 9,
   "metadata": {},
   "outputs": [
    {
     "name": "stdout",
     "output_type": "stream",
     "text": [
      "coucou\n",
      "coucou\n"
     ]
    }
   ],
   "source": [
    "print(\"cou\" + \"cou\") #concaténation de deux chaînes de caractères\n",
    "print(\"cou\" * 2) # répétition 2 fois"
   ]
  },
  {
   "cell_type": "markdown",
   "metadata": {},
   "source": [
    "### Les boucles"
   ]
  },
  {
   "cell_type": "code",
   "execution_count": 10,
   "metadata": {},
   "outputs": [
    {
     "name": "stdout",
     "output_type": "stream",
     "text": [
      "c\n",
      "-\n",
      "o\n",
      "-\n",
      "u\n",
      "-\n",
      "c\n",
      "-\n",
      "o\n",
      "-\n",
      "u\n",
      "-\n",
      "c'est fini\n"
     ]
    }
   ],
   "source": [
    "#premiere boucle for. On itère directement sur les caractères de la chaîne.\n",
    "for lettre in a:\n",
    "    print(lettre)\n",
    "    print(\"-\") # indentation de l'intérieur de la boucle = on est toujours dans la boucle\n",
    "print(\"c'est fini\") # indentation de l'extérieur de la boucle donc la boucle est finie"
   ]
  },
  {
   "cell_type": "code",
   "execution_count": 11,
   "metadata": {},
   "outputs": [
    {
     "name": "stdout",
     "output_type": "stream",
     "text": [
      "u\n",
      "o\n",
      "c\n",
      "u\n",
      "o\n",
      "c\n"
     ]
    }
   ],
   "source": [
    "for lettre in a[::-1]:\n",
    "    print(lettre)"
   ]
  },
  {
   "cell_type": "code",
   "execution_count": 12,
   "metadata": {},
   "outputs": [
    {
     "name": "stdout",
     "output_type": "stream",
     "text": [
      "0 c\n",
      "1 o\n",
      "2 u\n",
      "3 c\n",
      "4 o\n",
      "5 u\n"
     ]
    }
   ],
   "source": [
    "for i,lettre in enumerate(a): #i est l'indice de l'itération dans la boucle\n",
    "    print(i,lettre)"
   ]
  },
  {
   "cell_type": "code",
   "execution_count": 13,
   "metadata": {},
   "outputs": [
    {
     "name": "stdout",
     "output_type": "stream",
     "text": [
      "cc\n",
      "oo\n",
      "ul\n",
      "ci\n",
      "ob\n",
      "ur\n"
     ]
    }
   ],
   "source": [
    "for u,v in zip(a, \"colibri\"): #à chaque tour de boucle on prend une lettre de \"coucou\" et une lettre de \"colibri\"\n",
    "    print(u+v)"
   ]
  },
  {
   "cell_type": "markdown",
   "metadata": {},
   "source": [
    "### Phrases à trous"
   ]
  },
  {
   "cell_type": "code",
   "execution_count": 12,
   "metadata": {},
   "outputs": [
    {
     "name": "stdout",
     "output_type": "stream",
     "text": [
      "Je m'appelle {}.\n",
      "Je m'appelle Mathieu.\n"
     ]
    }
   ],
   "source": [
    "b = \"Je m'appelle {}.\"\n",
    "print(b)\n",
    "print(b.format(\"Mathieu\"))"
   ]
  },
  {
   "cell_type": "code",
   "execution_count": 13,
   "metadata": {},
   "outputs": [
    {
     "name": "stdout",
     "output_type": "stream",
     "text": [
      "coucou\n"
     ]
    }
   ],
   "source": [
    "print(a.format(\"Mathieu\"))"
   ]
  },
  {
   "cell_type": "code",
   "execution_count": 14,
   "metadata": {},
   "outputs": [
    {
     "name": "stdout",
     "output_type": "stream",
     "text": [
      "My name is Bond, James Bond.\n"
     ]
    }
   ],
   "source": [
    "b = \"My name is {1}, {0} {1}.\"\n",
    "print(b.format(\"James\", \"Bond\"))"
   ]
  },
  {
   "cell_type": "code",
   "execution_count": 15,
   "metadata": {},
   "outputs": [
    {
     "name": "stdout",
     "output_type": "stream",
     "text": [
      "My name is Bond, James Bond.\n"
     ]
    }
   ],
   "source": [
    "b2 = \"My name is {nom}, {prenom} {nom}.\"\n",
    "print(b2.format(prenom=\"James\", nom=\"Bond\"))"
   ]
  },
  {
   "cell_type": "code",
   "execution_count": 16,
   "metadata": {},
   "outputs": [
    {
     "name": "stdout",
     "output_type": "stream",
     "text": [
      "Veuillez charger le fichier acquisition_t005.txt\n",
      "Veuillez charger le fichier acquisition_t023.txt\n",
      "Veuillez charger le fichier acquisition_t328.txt\n"
     ]
    }
   ],
   "source": [
    "c = \"Veuillez charger le fichier acquisition_t{:03d}.txt\" #nombre décimal sur 3 chiffres, éventuellement complétés de zéros\n",
    "print(c.format(5))\n",
    "print(c.format(23))\n",
    "print(c.format(328))"
   ]
  },
  {
   "cell_type": "code",
   "execution_count": 18,
   "metadata": {},
   "outputs": [
    {
     "ename": "ValueError",
     "evalue": "Unknown format code 'd' for object of type 'float'",
     "output_type": "error",
     "traceback": [
      "\u001b[0;31m---------------------------------------------------------------------------\u001b[0m",
      "\u001b[0;31mValueError\u001b[0m                                Traceback (most recent call last)",
      "\u001b[0;32m<ipython-input-18-4059f93e68f5>\u001b[0m in \u001b[0;36m<module>\u001b[0;34m()\u001b[0m\n\u001b[0;32m----> 1\u001b[0;31m \u001b[0mprint\u001b[0m\u001b[0;34m(\u001b[0m\u001b[0mc\u001b[0m\u001b[0;34m.\u001b[0m\u001b[0mformat\u001b[0m\u001b[0;34m(\u001b[0m\u001b[0;36m0.1\u001b[0m\u001b[0;34m)\u001b[0m\u001b[0;34m)\u001b[0m\u001b[0;34m\u001b[0m\u001b[0m\n\u001b[0m\u001b[1;32m      2\u001b[0m \u001b[0mprint\u001b[0m\u001b[0;34m(\u001b[0m\u001b[0mc\u001b[0m\u001b[0;34m.\u001b[0m\u001b[0mformat\u001b[0m\u001b[0;34m(\u001b[0m\u001b[0;34m\"hi\"\u001b[0m\u001b[0;34m)\u001b[0m\u001b[0;34m)\u001b[0m\u001b[0;34m\u001b[0m\u001b[0m\n",
      "\u001b[0;31mValueError\u001b[0m: Unknown format code 'd' for object of type 'float'"
     ]
    }
   ],
   "source": [
    "print(c.format(0.1))\n",
    "print(c.format(\"hi\"))"
   ]
  },
  {
   "cell_type": "markdown",
   "metadata": {},
   "source": [
    "Syntaxe complète des [instructions de formattage](https://docs.python.org/3/library/string.html#format-string-syntax), si un jour vous avez envie d'afficher un nombre hexadécimal sur 7 charactères minimum, éventuellement complété avec des symboles livre sterling, ou un nombre flottant avec 2 chiffres significatifs.\n",
    "\n",
    "On peut aussi obtenir de l'aide sur une méthode d'un objet."
   ]
  },
  {
   "cell_type": "code",
   "execution_count": 19,
   "metadata": {
    "collapsed": true
   },
   "outputs": [
    {
     "data": {
      "text/plain": [
       "\u001b[0;31mDocstring:\u001b[0m\n",
       "S.format(*args, **kwargs) -> str\n",
       "\n",
       "Return a formatted version of S, using substitutions from args and kwargs.\n",
       "The substitutions are identified by braces ('{' and '}').\n",
       "\u001b[0;31mType:\u001b[0m      builtin_function_or_method\n"
      ]
     },
     "metadata": {},
     "output_type": "display_data"
    }
   ],
   "source": [
    "c.format?"
   ]
  },
  {
   "cell_type": "code",
   "execution_count": 20,
   "metadata": {},
   "outputs": [
    {
     "name": "stdout",
     "output_type": "stream",
     "text": [
      "Veuillez charger le fichier acquisition_t005.txt\n"
     ]
    }
   ],
   "source": [
    "print(\"Veuillez charger le fichier acquisition_t%03d.txt\"%5)"
   ]
  },
  {
   "cell_type": "markdown",
   "metadata": {},
   "source": [
    "## Listes"
   ]
  },
  {
   "cell_type": "code",
   "execution_count": 22,
   "metadata": {},
   "outputs": [
    {
     "name": "stdout",
     "output_type": "stream",
     "text": [
      "['coucou', 'My name is {1}, {0} {1}.', 127, 3.14, ['James', 'Bond'], 'Veuillez charger le fichier acquisition_t{:03d}.txt']\n",
      "coucou\n",
      "o\n",
      "coucouMy name is Bond, James Bond.\n",
      "Veuillez charger le fichier acquisition_t127.txt Mr Bond.\n"
     ]
    }
   ],
   "source": [
    "l = [a, b, 127, 3.14, [\"James\", \"Bond\"], c]\n",
    "print(l)\n",
    "print(l[0])\n",
    "print(l[0][1])\n",
    "print(l[0]+l[1].format(l[-2][0], l[-2][1])) # pour \"déplier\" tous les éléments de la liste l[-2] en tant qu'arguments de la fonction format\n",
    "#possible d'écrire directement format(*l[-2])\n",
    "print(l[-1].format(l[2]) + \" Mr {}.\".format(l[-2][-1]))"
   ]
  },
  {
   "cell_type": "markdown",
   "metadata": {},
   "source": [
    "Il est possible de modifier les éléments d'une liste et même de changer leur type."
   ]
  },
  {
   "cell_type": "code",
   "execution_count": 23,
   "metadata": {},
   "outputs": [
    {
     "name": "stdout",
     "output_type": "stream",
     "text": [
      "Veuillez charger le fichier acquisition_t012.txt Mr 3.\n"
     ]
    }
   ],
   "source": [
    "l[2] = 12\n",
    "l[-2][-1] = 3\n",
    "print(l[-1].format(l[2]) + \" Mr {}.\".format(l[-2][-1]))"
   ]
  },
  {
   "cell_type": "code",
   "execution_count": 24,
   "metadata": {},
   "outputs": [
    {
     "name": "stdout",
     "output_type": "stream",
     "text": [
      "[0, 1, 4]\n"
     ]
    }
   ],
   "source": [
    "l2 = []\n",
    "for i in range(3):\n",
    "    l2.append(i**2)\n",
    "print(l2)"
   ]
  },
  {
   "cell_type": "markdown",
   "metadata": {},
   "source": [
    "## tuple\n",
    "\n",
    "Comme une liste, mais avec des parenthèses au lieu de crochets. Il est interdit de modifier le contenu d'un tuple."
   ]
  },
  {
   "cell_type": "code",
   "execution_count": 27,
   "metadata": {},
   "outputs": [
    {
     "name": "stdout",
     "output_type": "stream",
     "text": [
      "('coucou', 'My name is {1}, {0} {1}.', 127, 3.14, ('James', 'Bond'), 'Veuillez charger le fichier acquisition_t{:03d}.txt')\n",
      "coucou\n",
      "o\n",
      "coucouMy name is Bond, James Bond.\n",
      "Veuillez charger le fichier acquisition_t127.txt Mr Bond.\n"
     ]
    }
   ],
   "source": [
    "t = (a, b, 127, 3.14, (\"James\", \"Bond\"), c)\n",
    "print(t)\n",
    "print(t[0])\n",
    "print(t[0][1])\n",
    "print(t[0]+t[1].format(*t[-2]))\n",
    "print(t[-1].format(t[2]) + \" Mr {}.\".format(t[-2][-1]))"
   ]
  },
  {
   "cell_type": "code",
   "execution_count": 28,
   "metadata": {},
   "outputs": [
    {
     "ename": "TypeError",
     "evalue": "'tuple' object does not support item assignment",
     "output_type": "error",
     "traceback": [
      "\u001b[0;31m---------------------------------------------------------------------------\u001b[0m",
      "\u001b[0;31mTypeError\u001b[0m                                 Traceback (most recent call last)",
      "\u001b[0;32m<ipython-input-28-68e0e9062cd8>\u001b[0m in \u001b[0;36m<module>\u001b[0;34m()\u001b[0m\n\u001b[0;32m----> 1\u001b[0;31m \u001b[0mt\u001b[0m\u001b[0;34m[\u001b[0m\u001b[0;36m2\u001b[0m\u001b[0;34m]\u001b[0m \u001b[0;34m=\u001b[0m \u001b[0;36m12\u001b[0m\u001b[0;34m\u001b[0m\u001b[0m\n\u001b[0m",
      "\u001b[0;31mTypeError\u001b[0m: 'tuple' object does not support item assignment"
     ]
    }
   ],
   "source": [
    "t[2] = 12"
   ]
  },
  {
   "cell_type": "code",
   "execution_count": 29,
   "metadata": {},
   "outputs": [
    {
     "data": {
      "text/plain": [
       "('coucou',\n",
       " 'My name is {1}, {0} {1}.',\n",
       " 12,\n",
       " 3.14,\n",
       " ['James', 3],\n",
       " 'Veuillez charger le fichier acquisition_t{:03d}.txt')"
      ]
     },
     "execution_count": 29,
     "metadata": {},
     "output_type": "execute_result"
    }
   ],
   "source": [
    "tuple(l)"
   ]
  },
  {
   "cell_type": "code",
   "execution_count": 30,
   "metadata": {},
   "outputs": [
    {
     "data": {
      "text/plain": [
       "['coucou',\n",
       " 'My name is {1}, {0} {1}.',\n",
       " 127,\n",
       " 3.14,\n",
       " ('James', 'Bond'),\n",
       " 'Veuillez charger le fichier acquisition_t{:03d}.txt']"
      ]
     },
     "execution_count": 30,
     "metadata": {},
     "output_type": "execute_result"
    }
   ],
   "source": [
    "list(t)"
   ]
  },
  {
   "cell_type": "markdown",
   "metadata": {},
   "source": [
    "# Librairies\n",
    "\n",
    "## Import\n",
    "\n",
    "Toute la librairie"
   ]
  },
  {
   "cell_type": "code",
   "execution_count": 31,
   "metadata": {},
   "outputs": [
    {
     "data": {
      "text/plain": [
       "['README.md',\n",
       " 'LICENSE',\n",
       " 'Initiation.ipynb',\n",
       " '.ipynb_checkpoints',\n",
       " 'coucou.py',\n",
       " '.git']"
      ]
     },
     "execution_count": 31,
     "metadata": {},
     "output_type": "execute_result"
    }
   ],
   "source": [
    "import os\n",
    "os.listdir()"
   ]
  },
  {
   "cell_type": "markdown",
   "metadata": {},
   "source": [
    "Une seule fonction dans la librairie, directement accessible sans avoir à taper `librairie.fonction`"
   ]
  },
  {
   "cell_type": "code",
   "execution_count": 32,
   "metadata": {},
   "outputs": [
    {
     "data": {
      "text/plain": [
       "['README.md',\n",
       " 'LICENSE',\n",
       " 'Initiation.ipynb',\n",
       " '.ipynb_checkpoints',\n",
       " 'coucou.py',\n",
       " '.git']"
      ]
     },
     "execution_count": 32,
     "metadata": {},
     "output_type": "execute_result"
    }
   ],
   "source": [
    "from os import listdir\n",
    "listdir()"
   ]
  },
  {
   "cell_type": "markdown",
   "metadata": {},
   "source": [
    "Marche aussi avec les sous-librairies et les fonctions des sous librairies."
   ]
  },
  {
   "cell_type": "code",
   "execution_count": 33,
   "metadata": {},
   "outputs": [
    {
     "name": "stdout",
     "output_type": "stream",
     "text": [
      "True\n",
      "True\n"
     ]
    }
   ],
   "source": [
    "from os import path #sous-librairie de os\n",
    "print(path.isfile('Initiation.ipynb'))\n",
    "from os.path import isfile\n",
    "print(isfile('Initiation.ipynb'))"
   ]
  },
  {
   "cell_type": "markdown",
   "metadata": {},
   "source": [
    "La syntaxe **maléfique** de l'import de tout ce qui est dans une librairie.\n",
    "\n",
    "```python\n",
    "from os import *\n",
    "```"
   ]
  },
  {
   "cell_type": "markdown",
   "metadata": {},
   "source": [
    "### Numpy: tableaux numériques"
   ]
  },
  {
   "cell_type": "code",
   "execution_count": 34,
   "metadata": {
    "collapsed": true
   },
   "outputs": [],
   "source": [
    "import numpy as np #abbréviation du nom de la librairie pour taper 2 lettres au lieu de 5"
   ]
  },
  {
   "cell_type": "markdown",
   "metadata": {},
   "source": [
    "Quelques fonctions pour créer des tableaux standards."
   ]
  },
  {
   "cell_type": "code",
   "execution_count": 35,
   "metadata": {},
   "outputs": [
    {
     "data": {
      "text/plain": [
       "(array([ 0.,  0.,  0.]), array([ 1.+0.j,  1.+0.j]), array([0, 1, 2, 3]))"
      ]
     },
     "execution_count": 35,
     "metadata": {},
     "output_type": "execute_result"
    }
   ],
   "source": [
    "np.zeros(3), np.ones(2, complex), np.arange(4)"
   ]
  },
  {
   "cell_type": "code",
   "execution_count": 50,
   "metadata": {},
   "outputs": [
    {
     "name": "stdout",
     "output_type": "stream",
     "text": [
      "[1, 5, 7]\n",
      "[1 5 7]\n",
      "[ 1.2  5.   6. ]\n",
      "a est un tableau à 1 dimensions de taille (3,) contenant uniquement des int64\n",
      "b est un tableau à 1 dimensions de taille (3,) contenant uniquement des float64\n"
     ]
    }
   ],
   "source": [
    "l = [1,5,7] #liste numérique\n",
    "print(l)\n",
    "a = np.array(l) #transformée en tableau numpy\n",
    "print(a)\n",
    "b = np.array([1.2, 5, 6]) #les 2 étapes d'un coup\n",
    "print(b)\n",
    "print(\"a est un tableau à {} dimensions de taille {} contenant uniquement des {}\".format(a.ndim, a.shape, a.dtype)) \n",
    "print(\"b est un tableau à {} dimensions de taille {} contenant uniquement des {}\".format(b.ndim, b.shape, b.dtype)) "
   ]
  },
  {
   "cell_type": "markdown",
   "metadata": {},
   "source": [
    "Toutes les opérations se font élément par élément, même la multiplication. Pas besoin de point comme en MATLAB. La multiplication matricielle se fait avec `np.matmul`."
   ]
  },
  {
   "cell_type": "code",
   "execution_count": 51,
   "metadata": {},
   "outputs": [
    {
     "name": "stdout",
     "output_type": "stream",
     "text": [
      "[ 2 10 14]\n",
      "[  2.2  10.   13. ]\n",
      "[  1.2  25.   42. ]\n",
      "[ 0.83333333  1.          1.16666667]\n",
      "[False  True  True]\n",
      "[    2.71828183   148.4131591   1096.63315843]\n"
     ]
    }
   ],
   "source": [
    "print(2 * a)\n",
    "print(a + b)\n",
    "print(a * b)\n",
    "print(a / b)\n",
    "print(a>2)\n",
    "print(np.exp(a))"
   ]
  },
  {
   "cell_type": "markdown",
   "metadata": {},
   "source": [
    "Le type des tableaux s'adapte automatiquement si besoin"
   ]
  },
  {
   "cell_type": "code",
   "execution_count": 39,
   "metadata": {},
   "outputs": [
    {
     "name": "stdout",
     "output_type": "stream",
     "text": [
      "float64\n",
      "[ 1.          0.4         0.42857143]\n",
      "float64\n",
      "[1 0 0]\n",
      "int64\n"
     ]
    }
   ],
   "source": [
    "c = a + b\n",
    "print(c.dtype)\n",
    "d = np.array([1,2,3])/a #division réélle, bseoin de passer en flottant, même si les tableaux ne contiennent que des entiers\n",
    "print(d)\n",
    "print(d.dtype)\n",
    "e = np.array([1,2,3])//a #division Euclidienne, on reste en entiers\n",
    "print(e)\n",
    "print(e.dtype)"
   ]
  },
  {
   "cell_type": "markdown",
   "metadata": {},
   "source": [
    "Tableaux en 2 ou plus dimensions en imbriquant des listes"
   ]
  },
  {
   "cell_type": "code",
   "execution_count": 54,
   "metadata": {},
   "outputs": [
    {
     "name": "stdout",
     "output_type": "stream",
     "text": [
      "a est un tableau à 2 dimensions de taille (2, 3) contenant uniquement des int64\n"
     ]
    }
   ],
   "source": [
    "a = np.array([[1,2,3],[7,4,5]])\n",
    "print(\"a est un tableau à {} dimensions de taille {} contenant uniquement des {}\".format(a.ndim, a.shape, a.dtype)) "
   ]
  },
  {
   "cell_type": "code",
   "execution_count": 44,
   "metadata": {},
   "outputs": [
    {
     "name": "stdout",
     "output_type": "stream",
     "text": [
      "[[1 2 3]\n",
      " [7 4 5]]\n",
      "[[1 7]\n",
      " [2 4]\n",
      " [3 5]]\n"
     ]
    }
   ],
   "source": [
    "print(a)\n",
    "print(a.T)"
   ]
  },
  {
   "cell_type": "markdown",
   "metadata": {},
   "source": [
    "De nombreuses possibilités d'indexation"
   ]
  },
  {
   "cell_type": "code",
   "execution_count": 46,
   "metadata": {},
   "outputs": [
    {
     "name": "stdout",
     "output_type": "stream",
     "text": [
      "2\n",
      "[1 2 3]\n",
      "2\n",
      "[1 7]\n",
      "[[7 5]\n",
      " [1 3]]\n",
      "[3 7 4 5]\n"
     ]
    }
   ],
   "source": [
    "print(a[0,1])\n",
    "print(a[0])\n",
    "print(a[0][1])\n",
    "print(a[:,0])\n",
    "print(a[::-1,[0, 2]])\n",
    "print(a[a>2])"
   ]
  },
  {
   "cell_type": "markdown",
   "metadata": {},
   "source": [
    "Possible de faire des opération si l'un des tableaux est de dimension plus faible et si la forme de celui-ci correspond à la fin de la forme de l'autre tableau."
   ]
  },
  {
   "cell_type": "code",
   "execution_count": 47,
   "metadata": {},
   "outputs": [
    {
     "name": "stdout",
     "output_type": "stream",
     "text": [
      "[[1 2 3]\n",
      " [7 4 5]]\n",
      "[ 1.2  5.   6. ]\n",
      "(2, 3) (3,)\n"
     ]
    },
    {
     "data": {
      "text/plain": [
       "array([[  2.2,   7. ,   9. ],\n",
       "       [  8.2,   9. ,  11. ]])"
      ]
     },
     "execution_count": 47,
     "metadata": {},
     "output_type": "execute_result"
    }
   ],
   "source": [
    "print(a)\n",
    "print(b)\n",
    "print(a.shape, b.shape)\n",
    "a + b"
   ]
  },
  {
   "cell_type": "code",
   "execution_count": 48,
   "metadata": {},
   "outputs": [
    {
     "ename": "ValueError",
     "evalue": "operands could not be broadcast together with shapes (3,2) (3,) ",
     "output_type": "error",
     "traceback": [
      "\u001b[0;31m---------------------------------------------------------------------------\u001b[0m",
      "\u001b[0;31mValueError\u001b[0m                                Traceback (most recent call last)",
      "\u001b[0;32m<ipython-input-48-44ff5fdd0d19>\u001b[0m in \u001b[0;36m<module>\u001b[0;34m()\u001b[0m\n\u001b[0;32m----> 1\u001b[0;31m \u001b[0ma\u001b[0m\u001b[0;34m.\u001b[0m\u001b[0mT\u001b[0m \u001b[0;34m+\u001b[0m \u001b[0mb\u001b[0m\u001b[0;34m\u001b[0m\u001b[0m\n\u001b[0m",
      "\u001b[0;31mValueError\u001b[0m: operands could not be broadcast together with shapes (3,2) (3,) "
     ]
    }
   ],
   "source": [
    "a.T + b"
   ]
  },
  {
   "cell_type": "code",
   "execution_count": 55,
   "metadata": {},
   "outputs": [
    {
     "name": "stdout",
     "output_type": "stream",
     "text": [
      "22\n",
      "[8 6 8]\n",
      "[ 6 16]\n"
     ]
    }
   ],
   "source": [
    "print(a.sum())\n",
    "print(a.sum(axis=0))\n",
    "print(a.sum(axis=1))"
   ]
  },
  {
   "cell_type": "code",
   "execution_count": null,
   "metadata": {},
   "outputs": [],
   "source": []
  },
  {
   "cell_type": "markdown",
   "metadata": {},
   "source": [
    "### Matplotlib\n",
    "\n",
    "Graphiques, lecture et écriture d'images\n",
    "\n",
    "~~C'est sûrement la seule fois où je recommande un `import *`.~~"
   ]
  },
  {
   "cell_type": "code",
   "execution_count": 56,
   "metadata": {},
   "outputs": [
    {
     "name": "stdout",
     "output_type": "stream",
     "text": [
      "Using matplotlib backend: Qt5Agg\n"
     ]
    }
   ],
   "source": [
    "from matplotlib import pylab as plt\n",
    "#permet la modification en live des figures dans le notebook\n",
    "%matplotlib"
   ]
  },
  {
   "cell_type": "code",
   "execution_count": 57,
   "metadata": {},
   "outputs": [
    {
     "data": {
      "text/plain": [
       "[<matplotlib.lines.Line2D at 0x7fed2fed2a90>]"
      ]
     },
     "execution_count": 57,
     "metadata": {},
     "output_type": "execute_result"
    }
   ],
   "source": [
    "plt.plot(b)"
   ]
  },
  {
   "cell_type": "markdown",
   "metadata": {},
   "source": [
    "Pour un document à montrer, on préfère avoir des figures directement insérée dedans en tant qu'image."
   ]
  },
  {
   "cell_type": "code",
   "execution_count": 59,
   "metadata": {},
   "outputs": [
    {
     "data": {
      "text/plain": [
       "[<matplotlib.lines.Line2D at 0x7fed2fddc940>]"
      ]
     },
     "execution_count": 59,
     "metadata": {},
     "output_type": "execute_result"
    },
    {
     "data": {
      "image/png": "[encoded data removed]",
      "text/plain": [
       "<matplotlib.figure.Figure at 0x7fed4924fbe0>"
      ]
     },
     "metadata": {},
     "output_type": "display_data"
    }
   ],
   "source": [
    "%matplotlib inline\n",
    "plt.plot(b)"
   ]
  },
  {
   "cell_type": "markdown",
   "metadata": {},
   "source": [
    "Mais on ne peut plus sélectionner les données directement, pas très pratique pour l'analyse de données. On revient donc en mode normal (fenêtre externe)."
   ]
  },
  {
   "cell_type": "code",
   "execution_count": 39,
   "metadata": {},
   "outputs": [
    {
     "name": "stdout",
     "output_type": "stream",
     "text": [
      "Using matplotlib backend: Qt4Agg\n"
     ]
    }
   ],
   "source": [
    "%matplotlib"
   ]
  },
  {
   "cell_type": "code",
   "execution_count": 60,
   "metadata": {},
   "outputs": [
    {
     "data": {
      "image/png": "[encoded data removed]",
      "text/plain": [
       "<matplotlib.figure.Figure at 0x7fed2fe5c9b0>"
      ]
     },
     "metadata": {},
     "output_type": "display_data"
    }
   ],
   "source": [
    "plt.figure('Evolution de b') # création ou sélection d'une figure. La figure est nommée, ce qui est plus explicite qu'une numérotation\n",
    "plt.clf() # on efface la figure courante\n",
    "plt.plot(b)\n",
    "plt.yscale('log')\n",
    "plt.ylabel('b')\n",
    "plt.xlabel(r'$\\gamma_c$') # pas de caractères spéciaux, donc on a le droit de mettre des antislash pour les commandes LaTeX\n",
    "plt.savefig('mafig.pdf')"
   ]
  },
  {
   "cell_type": "code",
   "execution_count": 61,
   "metadata": {},
   "outputs": [
    {
     "name": "stdout",
     "output_type": "stream",
     "text": [
      "a\tb\n"
     ]
    }
   ],
   "source": [
    "print('a\\tb')"
   ]
  },
  {
   "cell_type": "markdown",
   "metadata": {},
   "source": [
    "## Scipy: boîte à outil scientifique\n",
    "\n",
    " - traitement d'image\n",
    " - optimisation (fit)\n",
    " - fonctions spéciales\n",
    " - interpolation\n",
    " - intégration numérique"
   ]
  }
 ],
 "metadata": {
  "kernelspec": {
   "display_name": "Python 3",
   "language": "python",
   "name": "python3"
  },
  "language_info": {
   "codemirror_mode": {
    "name": "ipython",
    "version": 3
   },
   "file_extension": ".py",
   "mimetype": "text/x-python",
   "name": "python",
   "nbconvert_exporter": "python",
   "pygments_lexer": "ipython3",
   "version": "3.5.3"
  }
 },
 "nbformat": 4,
 "nbformat_minor": 2
}
